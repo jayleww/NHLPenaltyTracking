{
 "cells": [
  {
   "cell_type": "code",
   "execution_count": 1,
   "metadata": {},
   "outputs": [],
   "source": [
    "import dash\n",
    "import dash_core_components as dcc\n",
    "import dash_html_components as html\n",
    "import pandas as pd\n",
    "import numpy as np\n",
    "import matplotlib.pyplot as plt\n",
    "import plotly.graph_objs as go\n",
    "from datetime import datetime"
   ]
  },
  {
   "cell_type": "code",
   "execution_count": 2,
   "metadata": {},
   "outputs": [],
   "source": [
    "#Dictionary of team names and abbreviations. VEG is used instead of VGK.\n",
    "teamAbvs = {'Anaheim Ducks':'ANA', 'Arizona Coyotes':'ARI', 'Boston Bruins': 'BOS', 'Buffalo Sabres':'BUF', 'Carolina Hurricanes':'CAR',\n",
    "            'Calgary Flames':'CGY', 'Chicago Blackhawks':'CHI', 'Columbus Blue Jackets':'CBJ', 'Colorado Avalanche':'COL', 'Dallas Stars':'DAL',\n",
    "           'Detroit Red Wings':'DET', 'Edmonton Oilers':'EDM', 'Florida Panthers':'FLA', 'Los Angeles Kings':'LAK',\n",
    "           'Minnesota Wild':'MIN', 'Montreal Canadiens':'MTL', 'Nashville Predators':'NSH', 'New Jersey Devils':'NJD',\n",
    "           'New York Islanders':'NYI', 'New York Rangers':'NYR', 'Ottawa Senators':'OTT', 'Phoenix Coyotes':'PHX', 'Philadelphia Flyers':'PHI',\n",
    "           'Pittsburgh Penguins':'PIT', 'San Jose Sharks':'SJS', 'St. Louis Blues':'STL', 'Tampa Bay Lightning':'TBL',\n",
    "           'Toronto Maple Leafs':'TOR','Vancouver Canucks':'VAN', 'Vegas Golden Knights':'VEG', 'Washington Capitals':'WSH', 'Winnipeg Jets':'WPG',\n",
    "           }"
   ]
  },
  {
   "cell_type": "code",
   "execution_count": 3,
   "metadata": {},
   "outputs": [],
   "source": [
    "app = dash.Dash()"
   ]
  },
  {
   "cell_type": "code",
   "execution_count": 5,
   "metadata": {},
   "outputs": [],
   "source": [
    "app.layout = html.Div([\n",
    "    \n",
    "    html.Div([dcc.Dropdown(id='teams', \n",
    "                           options=[{'label': i, 'value': i} for i in sorted(list(teamAbvs.values()))]\n",
    "                          ),\n",
    "        ],\n",
    "    style={'width': '48%', 'display': 'inline-block'}\n",
    "            ),\n",
    "    \n",
    "    html.Div([dcc.Dropdown(id='years',\n",
    "                          options=[\n",
    "                              {'label': '2015', 'value': '2015'},\n",
    "                              {'label': '2016', 'value': '2016'},\n",
    "                              {'label': '2017', 'value': '2017'},\n",
    "                              {'label': '2018', 'value': '2018'}\n",
    "                              ],\n",
    "                          multi=True\n",
    "                          ),\n",
    "        \n",
    "    ],\n",
    "    style={'width': '48%', 'display': 'inline-block'}\n",
    "            ),\n",
    "    \n",
    "    dcc.Graph(id='teamgraph'),\n",
    "    html.Div(id='outputteams')\n",
    "])\n",
    "\n",
    "@app.callback(dash.dependencies.Output('teamgraph', 'figure'), \n",
    "              [dash.dependencies.Input('teams', 'value'),\n",
    "              dash.dependencies.Input('years', 'value')\n",
    "              ])\n",
    "\n",
    "def callback_teams(teamname, yearlist):\n",
    "    traces = []\n",
    "    for year in yearlist:\n",
    "        team_data = pd.read_csv('team_penalties_'+year, header=[0,1])\n",
    "        wanted_team = team_data[teamname]\n",
    "        penalties = wanted_team.columns.drop('total')\n",
    "        totals = []\n",
    "        for penalty in penalties:\n",
    "            totals.append(wanted_team[penalty].sum())\n",
    "        penalties = [word.replace('sticking', 'highsticking') for word in penalties]\n",
    "        traces.append(go.Bar(x=penalties, y=totals, name=year, text=totals, textposition='auto', hoverinfo='none'))\n",
    "    \n",
    "    \n",
    "    return {\n",
    "        'data' : traces,\n",
    "        'layout' : go.Layout(barmode='group', title = 'Penalty Calls - '+teamname,\n",
    "                        yaxis = dict(title='Number of Calls', showgrid=True, linecolor='black', linewidth=2, mirror=True), \n",
    "                        xaxis = dict(title='Penalty', showgrid=True, linecolor='black', linewidth=2, mirror=True))\n",
    "    }\n",
    "\n"
   ]
  },
  {
   "cell_type": "code",
   "execution_count": null,
   "metadata": {},
   "outputs": [],
   "source": [
    "if __name__ == '__main__':\n",
    "    app.run_server()"
   ]
  },
  {
   "cell_type": "code",
   "execution_count": null,
   "metadata": {},
   "outputs": [],
   "source": []
  }
 ],
 "metadata": {
  "kernelspec": {
   "display_name": "Python 3",
   "language": "python",
   "name": "python3"
  },
  "language_info": {
   "codemirror_mode": {
    "name": "ipython",
    "version": 3
   },
   "file_extension": ".py",
   "mimetype": "text/x-python",
   "name": "python",
   "nbconvert_exporter": "python",
   "pygments_lexer": "ipython3",
   "version": "3.4.3"
  }
 },
 "nbformat": 4,
 "nbformat_minor": 2
}
