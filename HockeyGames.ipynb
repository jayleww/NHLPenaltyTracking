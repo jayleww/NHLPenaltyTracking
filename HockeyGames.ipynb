{
 "cells": [
  {
   "cell_type": "code",
   "execution_count": 247,
   "metadata": {},
   "outputs": [],
   "source": [
    "from urllib.request import urlopen\n",
    "from bs4 import BeautifulSoup\n",
    "import pandas as pd\n",
    "import numpy as np\n",
    "import seaborn as sns\n",
    "%matplotlib inline"
   ]
  },
  {
   "cell_type": "code",
   "execution_count": 151,
   "metadata": {},
   "outputs": [],
   "source": [
    "#Open the page and grab the relevant HTML\n",
    "mainpageadd = 'https://www.hockey-reference.com/leagues/NHL_2018_games.html'\n",
    "mainpage = urlopen(mainpageadd)\n",
    "soup = BeautifulSoup(mainpage)"
   ]
  },
  {
   "cell_type": "code",
   "execution_count": 182,
   "metadata": {
    "scrolled": true
   },
   "outputs": [],
   "source": [
    "#Grab the table with all the games\n",
    "gamesTable = soup.find(id='games')\n",
    "Date =[]\n",
    "Vis=[]\n",
    "VG=[]\n",
    "Home=[]\n",
    "HG=[]\n",
    "OT=[]\n",
    "Att=[]\n",
    "LOG=[]\n",
    "Notes=[]\n",
    "\n",
    "#Create a table with a list for each column of data\n",
    "headers = [Date, Vis, VG, Home, HG, OT, Att, LOG, Notes]\n",
    "\n",
    "#Iterate through each row and column, assigning the corresponding data to the location in 'headers'\n",
    "for row in gamesTable.findAll('tr'):\n",
    "    cells = row.findAll(['td','th'])\n",
    "    index = np.arange(0,len(cells)).tolist()\n",
    "    for num in index:\n",
    "        headers[num].append(cells[num].find(text=True))\n",
    "\n",
    "#Create the games Dataframe, set the column names to names instead of index values\n",
    "gamesDf = pd.DataFrame(headers).transpose()\n",
    "gamesDf.columns = gamesDf.iloc[0]\n",
    "gamesDf = gamesDf.reindex(gamesDf.index.drop(0))\n"
   ]
  },
  {
   "cell_type": "code",
   "execution_count": 194,
   "metadata": {},
   "outputs": [],
   "source": [
    "#Create a Dataframe with only games that have been played\n",
    "gamesDf['LOG'].replace('None', np.nan)\n",
    "gamesDf.dropna(subset=['LOG'], inplace=True)"
   ]
  },
  {
   "cell_type": "code",
   "execution_count": 213,
   "metadata": {},
   "outputs": [],
   "source": [
    "#Dictionary of team names and abbreviations. VEG is used instead of VGK.\n",
    "teamAbvs = {'Anaheim Ducks':'ANA', 'Arizona Coyotes':'ARI', 'Boston Bruins': 'BOS', 'Buffalo Sabres':'BUF', 'Carolina Hurricanes':'CAR',\n",
    "            'Calgary Flames':'CGY', 'Chicago Blackhawks':'CHI', 'Columbus Blue Jackets':'CBJ', 'Colorado Avalanche':'COL', 'Dallas Stars':'DAL',\n",
    "           'Detroit Red Wings':'DET', 'Edmonton Oilers':'EDM', 'Florida Panthers':'FLA', 'Los Angeles Kings':'LAK',\n",
    "           'Minnesota Wild':'MIN', 'Montreal Canadiens':'MTL', 'Nashville Predators':'NSH', 'New Jersey Devils':'NJD',\n",
    "           'New York Islanders':'NYI', 'New York Rangers':'NYR', 'Ottawa Senators':'OTT', 'Philadelphia Flyers':'PHI',\n",
    "           'Pittsburgh Penguins':'PIT', 'San Jose Sharks':'SJS', 'St. Louis Blues':'STL', 'Tampa Bay Lightning':'TBL',\n",
    "           'Toronto Maple Leafs':'TOR','Vancouver Canucks':'VAN', 'Vegas Golden Knights':'VEG', 'Washington Capitals':'WSH', 'Winnipeg Jets':'WPG',\n",
    "           }"
   ]
  },
  {
   "cell_type": "code",
   "execution_count": 236,
   "metadata": {
    "scrolled": false
   },
   "outputs": [],
   "source": [
    "#Open a page for every game played, and check the penalty table for slashing calls\n",
    "gamesPlayed2017 = np.arange(1,gamesDf['Date'].count()).tolist()\n",
    "#Initialize the lists\n",
    "slashingTotal2017 = []\n",
    "slashesInGame2017 = []\n",
    "slashingInt2017 = 0\n",
    "for game in gamesPlayed2017:\n",
    "    #Creating html string using gamesDf dataframe\n",
    "    abv = teamAbvs[gamesDf['Home'][game]]\n",
    "    daystr = ''.join(gamesDf['Date'][game].split('-'))\n",
    "    gamestr = (daystr+'0'+abv)\n",
    "    gamepage = ('https://www.hockey-reference.com/boxscores/'+gamestr+'.html')\n",
    "    openedgame = urlopen(gamepage)\n",
    "    gamesoup = BeautifulSoup(openedgame)    \n",
    "    penaltytable = gamesoup.find(id='penalty')\n",
    "    slashingInGame2017 = 0\n",
    "    #Going through the penalty entries to find slashing calls\n",
    "    for row in penaltytable.findAll('td'):\n",
    "        rowtext = row.get_text().split()\n",
    "        if 'Slashing' in rowtext:\n",
    "            slashingInGame2017 += 1\n",
    "    #Adding relevant entries to each list\n",
    "    slashingInt2017 += slashingInGame2017\n",
    "    slashingTotal2017.append(slashingInt2017)\n",
    "    slashesInGame2017.append(slashingInGame2017)    "
   ]
  },
  {
   "cell_type": "code",
   "execution_count": 240,
   "metadata": {},
   "outputs": [],
   "source": [
    "slashingDict2017 = {'Calls in Game': slashesInGame2017, 'Total Calls':slashingTotal2017}"
   ]
  },
  {
   "cell_type": "code",
   "execution_count": 243,
   "metadata": {},
   "outputs": [],
   "source": [
    "slashDf2017 = pd.DataFrame(slashingDict2017)\n",
    "slashDf2017.index.name = 'Games'"
   ]
  },
  {
   "cell_type": "code",
   "execution_count": 257,
   "metadata": {},
   "outputs": [
    {
     "data": {
      "text/plain": [
       "<matplotlib.axes.AxesSubplot at 0x9f9f6630>"
      ]
     },
     "execution_count": 257,
     "metadata": {},
     "output_type": "execute_result"
    },
    {
     "data": {
      "image/png": "[encoded data removed]",
      "text/plain": [
       "<matplotlib.figure.Figure at 0xa1218df0>"
      ]
     },
     "metadata": {},
     "output_type": "display_data"
    }
   ],
   "source": [
    "slashDf2017.plot(y='Total Calls', use_index='True')"
   ]
  },
  {
   "cell_type": "code",
   "execution_count": null,
   "metadata": {},
   "outputs": [],
   "source": []
  }
 ],
 "metadata": {
  "kernelspec": {
   "display_name": "Python 3",
   "language": "python",
   "name": "python3"
  },
  "language_info": {
   "codemirror_mode": {
    "name": "ipython",
    "version": 3
   },
   "file_extension": ".py",
   "mimetype": "text/x-python",
   "name": "python",
   "nbconvert_exporter": "python",
   "pygments_lexer": "ipython3",
   "version": "3.4.3"
  }
 },
 "nbformat": 4,
 "nbformat_minor": 2
}
